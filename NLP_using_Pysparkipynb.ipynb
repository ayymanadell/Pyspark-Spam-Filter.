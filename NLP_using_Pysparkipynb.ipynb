{
  "cells": [
    {
      "cell_type": "markdown",
      "id": "c9da32d6",
      "metadata": {
        "id": "c9da32d6"
      },
      "source": [
        "# NLP Using PySpark"
      ]
    },
    {
      "cell_type": "markdown",
      "id": "8326ba88",
      "metadata": {
        "id": "8326ba88"
      },
      "source": [
        "## Objective:\n",
        "- The objective from this project is to create a <b>Spam filter using NaiveBayes classifier</b>.\n",
        "\n",
        "- We'll use a dataset from UCI Repository. SMS Spam Detection: https://archive.ics.uci.edu/ml/datasets/SMS+Spam+Collection\n"
      ]
    },
    {
      "cell_type": "markdown",
      "id": "e31bc851",
      "metadata": {
        "id": "e31bc851"
      },
      "source": [
        "### Creating a spark session and importing the required libraries"
      ]
    },
    {
      "cell_type": "code",
      "execution_count": 276,
      "id": "dcf86e46",
      "metadata": {
        "id": "dcf86e46"
      },
      "outputs": [],
      "source": [
        "from pyspark.sql import SparkSession\n",
        "from pyspark.sql.functions import *\n",
        "from pyspark.ml.classification import NaiveBayes\n",
        "from pyspark.ml import  Pipeline\n",
        "from pyspark.ml.evaluation import MulticlassClassificationEvaluator\n",
        "from pyspark.ml.feature import Tokenizer, StopWordsRemover, CountVectorizer, StringIndexer, VectorAssembler, HashingTF, IDF"
      ]
    },
    {
      "cell_type": "code",
      "source": [
        "spark = SparkSession.builder.getOrCreate()\n",
        "spark"
      ],
      "metadata": {
        "colab": {
          "base_uri": "https://localhost:8080/",
          "height": 219
        },
        "id": "6O7dLqj0fjX8",
        "outputId": "d5e54849-d4a4-46ac-b133-6bdaff0232e1"
      },
      "id": "6O7dLqj0fjX8",
      "execution_count": 277,
      "outputs": [
        {
          "output_type": "execute_result",
          "data": {
            "text/plain": [
              "<pyspark.sql.session.SparkSession at 0x7cba2d7ae500>"
            ],
            "text/html": [
              "\n",
              "            <div>\n",
              "                <p><b>SparkSession - in-memory</b></p>\n",
              "                \n",
              "        <div>\n",
              "            <p><b>SparkContext</b></p>\n",
              "\n",
              "            <p><a href=\"http://dbec7af8b394:4040\">Spark UI</a></p>\n",
              "\n",
              "            <dl>\n",
              "              <dt>Version</dt>\n",
              "                <dd><code>v3.5.1</code></dd>\n",
              "              <dt>Master</dt>\n",
              "                <dd><code>local[*]</code></dd>\n",
              "              <dt>AppName</dt>\n",
              "                <dd><code>pyspark-shell</code></dd>\n",
              "            </dl>\n",
              "        </div>\n",
              "        \n",
              "            </div>\n",
              "        "
            ]
          },
          "metadata": {},
          "execution_count": 277
        }
      ]
    },
    {
      "cell_type": "markdown",
      "id": "2d00718f",
      "metadata": {
        "id": "2d00718f"
      },
      "source": [
        "### Reading the data into a DataFrame"
      ]
    },
    {
      "cell_type": "code",
      "execution_count": 278,
      "id": "29914cf1",
      "metadata": {
        "id": "29914cf1"
      },
      "outputs": [],
      "source": [
        "df = spark.read.csv('SMSSpamCollection',sep=\"\t\")"
      ]
    },
    {
      "cell_type": "code",
      "source": [
        "#printing the schema\n",
        "df.printSchema()"
      ],
      "metadata": {
        "colab": {
          "base_uri": "https://localhost:8080/"
        },
        "id": "C0sJ7mB_f4fX",
        "outputId": "af5209bf-6d66-4573-c751-de40d296ec1e"
      },
      "id": "C0sJ7mB_f4fX",
      "execution_count": 279,
      "outputs": [
        {
          "output_type": "stream",
          "name": "stdout",
          "text": [
            "root\n",
            " |-- _c0: string (nullable = true)\n",
            " |-- _c1: string (nullable = true)\n",
            "\n"
          ]
        }
      ]
    },
    {
      "cell_type": "code",
      "source": [
        "#Renaming the first column to 'class' and second column to 'text'\n",
        "df_renamed = df.withColumnRenamed(\"_c0\", \"class\") \\\n",
        "         .withColumnRenamed(\"_c1\",\"text\")"
      ],
      "metadata": {
        "id": "6ph1RuDFgGKk"
      },
      "id": "6ph1RuDFgGKk",
      "execution_count": 280,
      "outputs": []
    },
    {
      "cell_type": "code",
      "source": [
        "df_renamed.printSchema()"
      ],
      "metadata": {
        "colab": {
          "base_uri": "https://localhost:8080/"
        },
        "id": "_MKnkvX7gmoU",
        "outputId": "99a5e77f-2deb-4593-906b-1f7b620aadc3"
      },
      "id": "_MKnkvX7gmoU",
      "execution_count": 281,
      "outputs": [
        {
          "output_type": "stream",
          "name": "stdout",
          "text": [
            "root\n",
            " |-- class: string (nullable = true)\n",
            " |-- text: string (nullable = true)\n",
            "\n"
          ]
        }
      ]
    },
    {
      "cell_type": "code",
      "source": [
        "df_renamed.show(10 ,truncate=False)"
      ],
      "metadata": {
        "colab": {
          "base_uri": "https://localhost:8080/"
        },
        "id": "n8ZlRklasVGR",
        "outputId": "f926cd72-17ea-4c25-d2bc-0da016abd34c"
      },
      "id": "n8ZlRklasVGR",
      "execution_count": 282,
      "outputs": [
        {
          "output_type": "stream",
          "name": "stdout",
          "text": [
            "+-----+----------------------------------------------------------------------------------------------------------------------------------------------------------------+\n",
            "|class|text                                                                                                                                                            |\n",
            "+-----+----------------------------------------------------------------------------------------------------------------------------------------------------------------+\n",
            "|ham  |Go until jurong point, crazy.. Available only in bugis n great world la e buffet... Cine there got amore wat...                                                 |\n",
            "|ham  |Ok lar... Joking wif u oni...                                                                                                                                   |\n",
            "|spam |Free entry in 2 a wkly comp to win FA Cup final tkts 21st May 2005. Text FA to 87121 to receive entry question(std txt rate)T&C's apply 08452810075over18's     |\n",
            "|ham  |U dun say so early hor... U c already then say...                                                                                                               |\n",
            "|ham  |Nah I don't think he goes to usf, he lives around here though                                                                                                   |\n",
            "|spam |FreeMsg Hey there darling it's been 3 week's now and no word back! I'd like some fun you up for it still? Tb ok! XxX std chgs to send, £1.50 to rcv             |\n",
            "|ham  |Even my brother is not like to speak with me. They treat me like aids patent.                                                                                   |\n",
            "|ham  |As per your request 'Melle Melle (Oru Minnaminunginte Nurungu Vettam)' has been set as your callertune for all Callers. Press *9 to copy your friends Callertune|\n",
            "|spam |WINNER!! As a valued network customer you have been selected to receivea £900 prize reward! To claim call 09061701461. Claim code KL341. Valid 12 hours only.   |\n",
            "|spam |Had your mobile 11 months or more? U R entitled to Update to the latest colour mobiles with camera for Free! Call The Mobile Update Co FREE on 08002986030      |\n",
            "+-----+----------------------------------------------------------------------------------------------------------------------------------------------------------------+\n",
            "only showing top 10 rows\n",
            "\n"
          ]
        }
      ]
    },
    {
      "cell_type": "markdown",
      "id": "2fe744a9",
      "metadata": {
        "id": "2fe744a9"
      },
      "source": [
        "## Cleaning and Preparing the Data\n",
        "\n",
        "\n"
      ]
    },
    {
      "cell_type": "code",
      "execution_count": 283,
      "id": "5424a0cb",
      "metadata": {
        "id": "5424a0cb"
      },
      "outputs": [],
      "source": [
        "### Creating a new feature column contains the length of the text column\n",
        "df_with_length = df_renamed.withColumn(\"Name_Length\", length(\"text\"))"
      ]
    },
    {
      "cell_type": "code",
      "source": [
        "df_with_length.show(5)"
      ],
      "metadata": {
        "colab": {
          "base_uri": "https://localhost:8080/"
        },
        "id": "yov8FhPUx8Se",
        "outputId": "ed30590a-4b3d-45fd-e9cc-835003733521"
      },
      "id": "yov8FhPUx8Se",
      "execution_count": 284,
      "outputs": [
        {
          "output_type": "stream",
          "name": "stdout",
          "text": [
            "+-----+--------------------+-----------+\n",
            "|class|                text|Name_Length|\n",
            "+-----+--------------------+-----------+\n",
            "|  ham|Go until jurong p...|        111|\n",
            "|  ham|Ok lar... Joking ...|         29|\n",
            "| spam|Free entry in 2 a...|        155|\n",
            "|  ham|U dun say so earl...|         49|\n",
            "|  ham|Nah I don't think...|         61|\n",
            "+-----+--------------------+-----------+\n",
            "only showing top 5 rows\n",
            "\n"
          ]
        }
      ]
    },
    {
      "cell_type": "code",
      "source": [
        "#calculating the avg lenth to each class\n",
        "df_avg = df_with_length.groupby('class').avg()\n",
        "df_avg.show()"
      ],
      "metadata": {
        "colab": {
          "base_uri": "https://localhost:8080/"
        },
        "id": "Hz_VFFxUx-0C",
        "outputId": "7d5dbfbb-f69d-45fd-f8e8-1bbfbba377c0"
      },
      "id": "Hz_VFFxUx-0C",
      "execution_count": 285,
      "outputs": [
        {
          "output_type": "stream",
          "name": "stdout",
          "text": [
            "+-----+-----------------+\n",
            "|class| avg(Name_Length)|\n",
            "+-----+-----------------+\n",
            "|  ham|71.45431945307645|\n",
            "| spam|138.6706827309237|\n",
            "+-----+-----------------+\n",
            "\n"
          ]
        }
      ]
    },
    {
      "cell_type": "markdown",
      "id": "d5e101af",
      "metadata": {
        "id": "d5e101af"
      },
      "source": [
        "## Feature Transformations"
      ]
    },
    {
      "cell_type": "markdown",
      "id": "225067d5",
      "metadata": {
        "id": "225067d5"
      },
      "source": [
        "### Performing the following steps to obtain TF-IDF:\n",
        "\n",
        "1. Creating a <b>Tokenizer</b> from the text column.\n",
        "2. Creating a <b>StopWordsRemover</b> to remove the <b>stop words</b> from the column obtained from the <b>Tokenizer</b>.\n",
        "3. Creating a <b>CountVectorizer</b> after removing the <b>stop words</b>.\n",
        "4. Creating the <b>TF-IDF</b> from the <b>CountVectorizer</b>."
      ]
    },
    {
      "cell_type": "code",
      "execution_count": 286,
      "id": "6a4eebf8",
      "metadata": {
        "id": "6a4eebf8"
      },
      "outputs": [],
      "source": [
        "tokenizer = Tokenizer(inputCol=\"text\", outputCol=\"words\")\n",
        "stopword_remover = StopWordsRemover(inputCol=\"words\", outputCol=\"FilteredText\")\n",
        "cv = CountVectorizer(inputCol=\"FilteredText\", outputCol=\"TF\")\n",
        "idf = IDF(inputCol=\"TF\", outputCol=\"TFIDF\")"
      ]
    },
    {
      "cell_type": "markdown",
      "id": "1527ad65",
      "metadata": {
        "id": "1527ad65"
      },
      "source": [
        "#### then performing the following:\n",
        "\n",
        "  - Converting the <b>class column</b> to index using <b>StringIndexer</b>\n",
        "  - Creating feature column from the <b>TF-IDF</b> and <b>lenght</b> columns."
      ]
    },
    {
      "cell_type": "code",
      "source": [
        "string_indexer = StringIndexer(inputCol=\"class\", outputCol=\"label\")\n",
        "vectorAssm = VectorAssembler(inputCols=['label','TFIDF'] , outputCol='features')"
      ],
      "metadata": {
        "id": "4NWFiP9K5mrB"
      },
      "id": "4NWFiP9K5mrB",
      "execution_count": 287,
      "outputs": []
    },
    {
      "cell_type": "markdown",
      "id": "9775d494",
      "metadata": {
        "id": "9775d494"
      },
      "source": [
        "## The Model\n",
        "- Creating a <b>NaiveBayes</b> classifier"
      ]
    },
    {
      "cell_type": "code",
      "execution_count": 288,
      "id": "57af0d5d",
      "metadata": {
        "id": "57af0d5d"
      },
      "outputs": [],
      "source": [
        "naive_clf = NaiveBayes()"
      ]
    },
    {
      "cell_type": "markdown",
      "id": "dc14de63",
      "metadata": {
        "id": "dc14de63"
      },
      "source": [
        "## Pipeline\n",
        "### Creating a pipeline model contains all the steps starting from the Tokenizer to the NaiveBays classifier."
      ]
    },
    {
      "cell_type": "code",
      "execution_count": 289,
      "id": "8ee0d1ca",
      "metadata": {
        "id": "8ee0d1ca"
      },
      "outputs": [],
      "source": [
        "Pl = Pipeline(stages=[tokenizer, stopword_remover, cv, idf, string_indexer, vectorAssm, naive_clf])"
      ]
    },
    {
      "cell_type": "markdown",
      "id": "f5d7efbe",
      "metadata": {
        "id": "f5d7efbe"
      },
      "source": [
        "### Splitting the data to trian and test data with ratios 0.7 and 0.3 respectively."
      ]
    },
    {
      "cell_type": "code",
      "execution_count": 290,
      "id": "2843d997",
      "metadata": {
        "colab": {
          "base_uri": "https://localhost:8080/"
        },
        "id": "2843d997",
        "outputId": "37e7dd76-f4a2-452d-e51e-c8a2f8c601e7"
      },
      "outputs": [
        {
          "output_type": "execute_result",
          "data": {
            "text/plain": [
              "(3981, 1593)"
            ]
          },
          "metadata": {},
          "execution_count": 290
        }
      ],
      "source": [
        "traindf, testdf = df_with_length.randomSplit( [.7, .3],seed=42)\n",
        "traindf.count(), testdf.count()"
      ]
    },
    {
      "cell_type": "markdown",
      "id": "8bcea576",
      "metadata": {
        "id": "8bcea576"
      },
      "source": [
        "### Fitting the Pipeline model to the training data"
      ]
    },
    {
      "cell_type": "code",
      "execution_count": 291,
      "id": "3c5d4681",
      "metadata": {
        "id": "3c5d4681"
      },
      "outputs": [],
      "source": [
        "fitted_pipline = Pl.fit(traindf)"
      ]
    },
    {
      "cell_type": "markdown",
      "id": "228a3eb1",
      "metadata": {
        "id": "228a3eb1"
      },
      "source": [
        "###  predicting on tests dataframe"
      ]
    },
    {
      "cell_type": "code",
      "execution_count": 292,
      "id": "14f4aab5",
      "metadata": {
        "id": "14f4aab5"
      },
      "outputs": [],
      "source": [
        " predictions_df = fitted_pipline.transform(testdf)"
      ]
    },
    {
      "cell_type": "code",
      "source": [
        "#predictions_df schema\n",
        "predictions_df.printSchema()"
      ],
      "metadata": {
        "colab": {
          "base_uri": "https://localhost:8080/"
        },
        "id": "6HEFXlcI-wnm",
        "outputId": "4b07394e-02d0-4d4f-d909-acd42b977700"
      },
      "id": "6HEFXlcI-wnm",
      "execution_count": 293,
      "outputs": [
        {
          "output_type": "stream",
          "name": "stdout",
          "text": [
            "root\n",
            " |-- class: string (nullable = true)\n",
            " |-- text: string (nullable = true)\n",
            " |-- Name_Length: integer (nullable = true)\n",
            " |-- words: array (nullable = true)\n",
            " |    |-- element: string (containsNull = true)\n",
            " |-- FilteredText: array (nullable = true)\n",
            " |    |-- element: string (containsNull = true)\n",
            " |-- TF: vector (nullable = true)\n",
            " |-- TFIDF: vector (nullable = true)\n",
            " |-- label: double (nullable = false)\n",
            " |-- features: vector (nullable = true)\n",
            " |-- rawPrediction: vector (nullable = true)\n",
            " |-- probability: vector (nullable = true)\n",
            " |-- prediction: double (nullable = false)\n",
            "\n"
          ]
        }
      ]
    },
    {
      "cell_type": "markdown",
      "id": "57f27055",
      "metadata": {
        "id": "57f27055"
      },
      "source": [
        "## Model Evaluation\n",
        "- calculating the <b>f1_score</b> using <b>MulticlassClassificationEvaluator</b>"
      ]
    },
    {
      "cell_type": "code",
      "execution_count": 294,
      "id": "61911086",
      "metadata": {
        "id": "61911086"
      },
      "outputs": [],
      "source": [
        "evaluator = MulticlassClassificationEvaluator(labelCol=\"label\", predictionCol=\"prediction\", metricName=\"f1\")\n"
      ]
    },
    {
      "cell_type": "code",
      "execution_count": 295,
      "id": "be706565",
      "metadata": {
        "colab": {
          "base_uri": "https://localhost:8080/"
        },
        "id": "be706565",
        "outputId": "8fdfb4d4-9e3f-4e03-bcee-82a6d2f91b83"
      },
      "outputs": [
        {
          "output_type": "execute_result",
          "data": {
            "text/plain": [
              "0.9728509810000032"
            ]
          },
          "metadata": {},
          "execution_count": 295
        }
      ],
      "source": [
        "evaluator.evaluate(predictions_df)"
      ]
    }
  ],
  "metadata": {
    "kernelspec": {
      "display_name": "Python 3 (ipykernel)",
      "language": "python",
      "name": "python3"
    },
    "language_info": {
      "codemirror_mode": {
        "name": "ipython",
        "version": 3
      },
      "file_extension": ".py",
      "mimetype": "text/x-python",
      "name": "python",
      "nbconvert_exporter": "python",
      "pygments_lexer": "ipython3",
      "version": "3.9.12"
    },
    "colab": {
      "provenance": []
    }
  },
  "nbformat": 4,
  "nbformat_minor": 5
}